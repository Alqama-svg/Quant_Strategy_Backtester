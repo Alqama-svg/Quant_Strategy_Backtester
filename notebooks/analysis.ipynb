{
 "cells": [
  {
   "cell_type": "code",
   "execution_count": null,
   "id": "17e12c4b-5855-42de-877f-5b63af3fe0fd",
   "metadata": {},
   "outputs": [],
   "source": [
    "# =========================================================\n",
    "# QuantX V4.9 — Post Backtest Analysis Notebook\n",
    "# =========================================================\n",
    "# Author: Alqama Ansari\n",
    "# Date: 2025-10-14\n",
    "\n",
    "import pandas as pd\n",
    "import quantstats as qs\n",
    "import matplotlib.pyplot as plt\n",
    "from src.utils import compute_daily_returns, load_equity_curve, plot_equity_curve\n",
    "\n",
    "# === 1️⃣ Load Equity Curve ===\n",
    "eq = load_equity_curve('../outputs/QuantX_V4.9_EquityCurve.csv')\n",
    "print(f\"Equity data loaded: {len(eq)} records from {eq.index.min()} to {eq.index.max()}\")\n",
    "\n",
    "# === 2️⃣ Compute Returns ===\n",
    "returns = compute_daily_returns(eq)\n",
    "\n",
    "# === 3️⃣ Generate QuantStats HTML Report ===\n",
    "qs.reports.html(\n",
    "    returns,\n",
    "    benchmark=\"spy\",\n",
    "    output=\"../outputs/QuantX_V4.9_QuantStats_Report.html\",\n",
    "    title=\"QuantX V4.9 — Mean Reversion Backtest Report\"\n",
    ")\n",
    "\n",
    "print(\"✅ QuantStats HTML report generated at ../outputs/QuantX_V4.9_QuantStats_Report.html\")\n",
    "\n",
    "# === 4️⃣ Plot Equity Curve ===\n",
    "plot_equity_curve(eq, \"../outputs/QuantX_V4.9_EquityCurve.png\")\n",
    "print(\"✅ Equity curve saved as QuantX_V4.9_EquityCurve.png\")\n",
    "\n",
    "# === 5️⃣ Summary Stats ===\n",
    "summary = {\n",
    "    \"Start Date\": eq.index.min(),\n",
    "    \"End Date\": eq.index.max(),\n",
    "    \"Total Return (%)\": round((eq.iloc[-1] / eq.iloc[0] - 1) * 100, 2),\n",
    "    \"Max Drawdown (%)\": round(qs.stats.max_drawdown(returns) * 100, 2),\n",
    "    \"Sharpe Ratio\": round(qs.stats.sharpe(returns), 3)\n",
    "}\n",
    "\n",
    "summary_df = pd.DataFrame.from_dict(summary, orient=\"index\", columns=[\"Value\"])\n",
    "display(summary_df)\n",
    "summary_df.to_csv(\"../outputs/QuantX_V4.9_Performance_Summary.csv\")\n",
    "\n",
    "print(\"✅ Summary statistics generated successfully.\")"
   ]
  }
 ],
 "metadata": {
  "kernelspec": {
   "display_name": "Python (tf_env)",
   "language": "python",
   "name": "tf_env"
  },
  "language_info": {
   "codemirror_mode": {
    "name": "ipython",
    "version": 3
   },
   "file_extension": ".py",
   "mimetype": "text/x-python",
   "name": "python",
   "nbconvert_exporter": "python",
   "pygments_lexer": "ipython3",
   "version": "3.10.18"
  }
 },
 "nbformat": 4,
 "nbformat_minor": 5
}
